{
 "cells": [
  {
   "cell_type": "code",
   "execution_count": 1,
   "metadata": {
    "id": "3TDibK0Yrxm_"
   },
   "outputs": [],
   "source": [
    "import numpy as np\n",
    "import matplotlib.pyplot as plt\n"
   ]
  },
  {
   "cell_type": "markdown",
   "metadata": {
    "id": "1TBHlt7hAdN1"
   },
   "source": [
    "# Week-6\n",
    "\n",
    "**Note:**: \n",
    "\n",
    "- For questions that involve plotting, just enter $0$ as the answer in the portal.\n",
    "\n"
   ]
  },
  {
   "cell_type": "markdown",
   "metadata": {
    "id": "XJKrscLo9qwH"
   },
   "source": [
    "## Dataset\n",
    "\n",
    "Run the cell given below to generate the data-matrix $X$ and target vector $y$. $X$ is of shape $(n, d)$, where $n$ denotes the number of samples and $d$ denotes the number of features. $y$ is of shape $(n,)$. You will be using this dataset for the rest of the assignment. \n",
    "\n",
    "**Do not edit this cell.**"
   ]
  },
  {
   "cell_type": "code",
   "execution_count": 2,
   "metadata": {
    "id": "GIygEzr49Xvf"
   },
   "outputs": [],
   "source": [
    "from sklearn.datasets import load_diabetes\n",
    "X, y = load_diabetes(return_X_y = True)\n",
    "\n",
    "# set the random seed value to 0\n",
    "np.random.seed(0)"
   ]
  },
  {
   "cell_type": "markdown",
   "metadata": {
    "id": "VAONMkaU91v7"
   },
   "source": [
    "## Problem 1\n",
    "How many samples are there in the dataset?\n",
    "\n"
   ]
  },
  {
   "cell_type": "markdown",
   "metadata": {
    "id": "LnXmn5t-V8Us"
   },
   "source": [
    "## Solution"
   ]
  },
  {
   "cell_type": "code",
   "execution_count": 3,
   "metadata": {
    "id": "U_WEAtwXDqVF"
   },
   "outputs": [
    {
     "data": {
      "text/plain": [
       "442"
      ]
     },
     "execution_count": 3,
     "metadata": {},
     "output_type": "execute_result"
    }
   ],
   "source": [
    "# Write your solution code here\n",
    "X.shape[0]\n"
   ]
  },
  {
   "cell_type": "markdown",
   "metadata": {
    "id": "ozjMS6e_91y3"
   },
   "source": [
    "## Problem 2\n",
    "\n",
    "How many features are there in the dataset?\n",
    "\n"
   ]
  },
  {
   "cell_type": "markdown",
   "metadata": {
    "id": "xvFvIHN9V_s7"
   },
   "source": [
    "## Solution"
   ]
  },
  {
   "cell_type": "code",
   "execution_count": 4,
   "metadata": {
    "id": "ii_yZn4N-Di8"
   },
   "outputs": [
    {
     "data": {
      "text/plain": [
       "10"
      ]
     },
     "execution_count": 4,
     "metadata": {},
     "output_type": "execute_result"
    }
   ],
   "source": [
    "# Write your solution code here\n",
    "X.shape[1]"
   ]
  },
  {
   "cell_type": "markdown",
   "metadata": {
    "id": "HxIZaojUVGIL"
   },
   "source": [
    "## Problem 3\n",
    "Write a function `shuffle_data(X, y)` that returns the shuffled $X$ and $y$. \n",
    "\n",
    "Note that it should shuffle the data pairs $(x_i, y_i)$. \n",
    "\n",
    "What will be the mean of the first 5 values in $y$?\n",
    "\n"
   ]
  },
  {
   "cell_type": "code",
   "execution_count": 5,
   "metadata": {
    "id": "uLGsJyGkdgug"
   },
   "outputs": [
    {
     "data": {
      "text/plain": [
       "180.4"
      ]
     },
     "execution_count": 5,
     "metadata": {},
     "output_type": "execute_result"
    }
   ],
   "source": [
    "# Write your solution code here\n",
    "\n",
    "def shuffle_data(x,y):\n",
    "    indices = np.arange(x.shape[0])\n",
    "    np.random.shuffle(indices)\n",
    "    return x[indices] , y[indices]\n",
    "\n",
    "X, y = shuffle_data(X,y)\n",
    "y[:5].mean()"
   ]
  },
  {
   "cell_type": "markdown",
   "metadata": {
    "id": "pfsUsn_8WSXZ"
   },
   "source": [
    "## Problem 4\n",
    "\n",
    "Write a function `train_test_split(X, y, test_size)` that divides the data (X, y) into $X_{train}$, $X_{test}$, $y_{train}$, $y_{test}$ respectively as per test_size which should be a value between 0 and 1.\n",
    "\n",
    "That is, if test_size = $t$, then `int(t*n)` data points should go to test and the remaining data points should go to train.\n",
    "\n",
    "$X_{train}$, $X_{test}$, $y_{train}$, $y_{test}$ should be returned by the function.\n",
    "\n",
    "Set the test_size to be 0.25 and output the sum of all y values settling in $y_{test}$.\n",
    "\n",
    "\n",
    "\n",
    "\n",
    "\n",
    "\n"
   ]
  },
  {
   "cell_type": "code",
   "execution_count": 6,
   "metadata": {
    "id": "Y5VZVbT8dg2b"
   },
   "outputs": [
    {
     "data": {
      "text/plain": [
       "16960.0"
      ]
     },
     "execution_count": 6,
     "metadata": {},
     "output_type": "execute_result"
    }
   ],
   "source": [
    "# Write your solution code here\n",
    "\n",
    "def train_train_test_split(x,y,test_size):\n",
    "    no_of_train_data_points = len(y) - int(len(y)*test_size)\n",
    "    x_train = x[:no_of_train_data_points]\n",
    "    x_test = x[no_of_train_data_points:]\n",
    "    y_train = y[:no_of_train_data_points]\n",
    "    y_test = y[no_of_train_data_points:]\n",
    "    return x_train,x_test,y_train,y_test\n",
    "\n",
    "\n",
    "x_train,x_test,y_train,y_test = train_train_test_split(X,y,0.25)\n",
    "y_test.sum()\n"
   ]
  },
  {
   "cell_type": "markdown",
   "metadata": {
    "id": "D67g0r9ad8Ea"
   },
   "source": [
    "## Problem 5\n",
    "\n",
    "What are the shapes of $X_{train}$, $X_{test}$, $y_{train}$, $y_{test}$ respectively?\n",
    "\n"
   ]
  },
  {
   "cell_type": "code",
   "execution_count": 7,
   "metadata": {
    "id": "kTPAakKblF7q"
   },
   "outputs": [
    {
     "data": {
      "text/plain": [
       "((332, 10), (110, 10), (332,), (110,))"
      ]
     },
     "execution_count": 7,
     "metadata": {},
     "output_type": "execute_result"
    }
   ],
   "source": [
    "# Write your solution code here\n",
    "x_train.shape,x_test.shape,y_train.shape,y_test.shape "
   ]
  },
  {
   "cell_type": "markdown",
   "metadata": {
    "id": "nYgSo6DLe0n-"
   },
   "source": [
    "## Problem 6\n",
    "Add a dummy feature, i.e., a column containing all 1's (as the first column) in $X_{train}$ and $X_{test}$.\n",
    "\n",
    "Take the transpose of both $X_{train}$ and $X_{test}$.\n",
    "\n",
    "What are the shapes of $X_{train}$ and $X_{test}$?\n",
    "\n"
   ]
  },
  {
   "cell_type": "code",
   "execution_count": 8,
   "metadata": {
    "id": "Lgv2V9qnnNv3"
   },
   "outputs": [
    {
     "data": {
      "text/plain": [
       "((11, 332), (11, 110))"
      ]
     },
     "execution_count": 8,
     "metadata": {},
     "output_type": "execute_result"
    }
   ],
   "source": [
    "# Write your solution code here\n",
    "\n",
    "X_train = np.column_stack((np.ones(x_train.shape[0]), x_train)).T\n",
    "X_test = np.column_stack((np.ones(x_test.shape[0]), x_test)).T\n",
    "X_train.shape, X_test.shape\n",
    "# X_train[:1,:]"
   ]
  },
  {
   "cell_type": "markdown",
   "metadata": {
    "id": "mYY6hNkYf7gr"
   },
   "source": [
    "## Problem 7\n",
    "\n",
    "Write a function `compute_weights(X, y)` that uses the closed form formula of linear regression and returns a weight vector.\n",
    "\n",
    "Call this function by passing $X_{train}$ and $y_{train}$. As the dummy feature was added as the first column, the first value in the weight vector will be the intercept. What is its value (rounded to one decimal place)?\n",
    "\n"
   ]
  },
  {
   "cell_type": "code",
   "execution_count": 40,
   "metadata": {
    "id": "XWxPR8N5nc17"
   },
   "outputs": [
    {
     "data": {
      "text/plain": [
       "1662.5600000000002"
      ]
     },
     "execution_count": 40,
     "metadata": {},
     "output_type": "execute_result"
    }
   ],
   "source": [
    "# Write your solution code here\n",
    "def weight(x,y):\n",
    "    return np.linalg.pinv(x@x.T)@x@y\n",
    "\n",
    "w = weight(X_train,y_train)\n",
    "w.round(2).sum()"
   ]
  },
  {
   "cell_type": "markdown",
   "metadata": {
    "id": "XUKviVRZoh2j"
   },
   "source": [
    "## Problem 8\n",
    "\n",
    "Write a function `MSE(X, y, w)` that returns the mean squared error for the given `X`, `y` as per `w` values.\n",
    "\n",
    "Using this function, compute the train error and test error.\n",
    "\n",
    "Note: Here `y` is the true `y` for `X`.\n",
    "\n",
    "Compute both train and test error. \n",
    "\n",
    "What is the value of test error?\n"
   ]
  },
  {
   "cell_type": "code",
   "execution_count": 10,
   "metadata": {},
   "outputs": [],
   "source": [
    "def predict(x,w):\n",
    "    return x.T@w"
   ]
  },
  {
   "cell_type": "code",
   "execution_count": 11,
   "metadata": {
    "id": "PkAULslJD48q"
   },
   "outputs": [
    {
     "name": "stdout",
     "output_type": "stream",
     "text": [
      "train_loss :- 2921.8874514067493\n",
      "test_loss :- 2745.430111174354\n"
     ]
    }
   ],
   "source": [
    "# Write your solution code here\n",
    "ypred = predict(X_train, w) #--->> It's for traning data\n",
    "def loss(x,y,w):\n",
    "    return np.mean((y_train-ypred)**2)\n",
    "train_loss = loss(X_train, y_train, w)\n",
    " \n",
    "\n",
    "ypred_test = predict(X_test, w)   #--->> It's for test data\n",
    "def loss(x,w):\n",
    "    return np.mean((y_test-ypred_test)**2)\n",
    "test_loss = loss(X_test, w)\n",
    "\n",
    "\n",
    "print(\"train_loss :-\", train_loss)\n",
    "print(\"test_loss :-\", test_loss)"
   ]
  },
  {
   "cell_type": "code",
   "execution_count": 18,
   "metadata": {},
   "outputs": [
    {
     "data": {
      "text/plain": [
       "176.45734023239538"
      ]
     },
     "execution_count": 18,
     "metadata": {},
     "output_type": "execute_result"
    }
   ],
   "source": [
    "np.abs(train_loss-test_loss)"
   ]
  },
  {
   "cell_type": "markdown",
   "metadata": {
    "id": "mZZVbejulHyv"
   },
   "source": [
    "## Problem 9\n",
    "\n",
    "Write a function `compute_weights_ridge(X, y)` that uses the closed form formula of Ridge regression and returns a weight vector.\n",
    "\n",
    "Call this function by passing  `X_train`, `y_train` and 0.3 as the value of regularization strength. \n",
    "\n",
    "\n",
    "Find the sum of values in the weight vector obtained. How much reduction in total sum of weights is achieved with respect to the the weight vector obtained from 'plain' linear regression (without regularization) computed earlier.\n"
   ]
  },
  {
   "cell_type": "code",
   "execution_count": 41,
   "metadata": {
    "id": "LCyCWK9dqZm1"
   },
   "outputs": [
    {
     "data": {
      "text/plain": [
       "982.52"
      ]
     },
     "execution_count": 41,
     "metadata": {},
     "output_type": "execute_result"
    }
   ],
   "source": [
    "# Write your solution code here\n",
    "def compute_weights_ridge(x, y, l):\n",
    "    return np.linalg.pinv(x@x.T + l*np.eye(x.shape[0]))@x@y\n",
    "\n",
    "w_ridge = compute_weights_ridge(X_train, y_train, 0.3)\n",
    "w_ridge.round(2).sum()"
   ]
  },
  {
   "cell_type": "code",
   "execution_count": 42,
   "metadata": {},
   "outputs": [
    {
     "data": {
      "text/plain": [
       "680.04"
      ]
     },
     "execution_count": 42,
     "metadata": {},
     "output_type": "execute_result"
    }
   ],
   "source": [
    "1662.56-982.52"
   ]
  },
  {
   "cell_type": "markdown",
   "metadata": {
    "id": "LC9Au6sPt1oT"
   },
   "source": [
    "## Problem 10\n",
    "\n",
    "Compute the train error and test error. What is their absolute difference?\n",
    "\n"
   ]
  },
  {
   "cell_type": "code",
   "execution_count": 43,
   "metadata": {
    "id": "iOUjJJpZ3BaZ"
   },
   "outputs": [
    {
     "data": {
      "text/plain": [
       "3058.801638655141"
      ]
     },
     "execution_count": 43,
     "metadata": {},
     "output_type": "execute_result"
    }
   ],
   "source": [
    "# Write your solution code here\n",
    "\n",
    "def mse(x,y,w):\n",
    "    return np.mean((x.T@w - y)**2)\n",
    "\n",
    "train_ridge_error = mse(X_train, y_train, w_ridge)\n",
    "train_ridge_error"
   ]
  },
  {
   "cell_type": "code",
   "execution_count": 44,
   "metadata": {},
   "outputs": [
    {
     "data": {
      "text/plain": [
       "2959.331899946145"
      ]
     },
     "execution_count": 44,
     "metadata": {},
     "output_type": "execute_result"
    }
   ],
   "source": [
    "test_ridge_error = mse(X_test, y_test, w_ridge)\n",
    "test_ridge_error"
   ]
  },
  {
   "cell_type": "code",
   "execution_count": 45,
   "metadata": {},
   "outputs": [
    {
     "data": {
      "text/plain": [
       "99.46973870899592"
      ]
     },
     "execution_count": 45,
     "metadata": {},
     "output_type": "execute_result"
    }
   ],
   "source": [
    "np.abs(train_ridge_error-test_ridge_error)"
   ]
  },
  {
   "cell_type": "markdown",
   "metadata": {
    "id": "Wn6-FG5puh8O"
   },
   "source": [
    "## Problem 11\n",
    "\n",
    "Use 10 different values between 0 and 5 as the regularization strength and keep a record of the weight vectors obtained for each. Further, calculate the sum of weights for each weight vector.\n",
    "\n",
    "Plot these sums of weights (on y-axis) with respect to the regularization strength (on x-axis) and observe the reduction in (sum of) weights.\n",
    "\n"
   ]
  },
  {
   "cell_type": "code",
   "execution_count": 46,
   "metadata": {
    "id": "zlzueWYWwtSi"
   },
   "outputs": [],
   "source": [
    "# Write your solution code here\n",
    "w = []\n",
    "w_sum = []\n",
    "for i in np.linspace(0,5,10):\n",
    "    wts_r = compute_weights_ridge(X_train, y_train , i)\n",
    "    w.append(wts_r)\n",
    "    w_sum.append(wts_r.sum())"
   ]
  },
  {
   "cell_type": "code",
   "execution_count": 47,
   "metadata": {},
   "outputs": [
    {
     "data": {
      "text/plain": [
       "[1662.5620302800423,\n",
       " 934.4055399257259,\n",
       " 841.3531298875503,\n",
       " 764.5072396614177,\n",
       " 701.7455625878888,\n",
       " 650.0302307888188,\n",
       " 606.857192831339,\n",
       " 570.3413234420532,\n",
       " 539.0828429144067,\n",
       " 512.0353956941123]"
      ]
     },
     "execution_count": 47,
     "metadata": {},
     "output_type": "execute_result"
    }
   ],
   "source": [
    "w_sum"
   ]
  },
  {
   "cell_type": "code",
   "execution_count": 50,
   "metadata": {},
   "outputs": [
    {
     "data": {
      "image/png": "[encoded data removed]",
      "text/plain": [
       "<Figure size 640x480 with 1 Axes>"
      ]
     },
     "metadata": {},
     "output_type": "display_data"
    }
   ],
   "source": [
    "plt.plot(np.linspace(0,5,10) , w_sum, '-o');"
   ]
  },
  {
   "cell_type": "code",
   "execution_count": 52,
   "metadata": {
    "scrolled": false
   },
   "outputs": [
    {
     "data": {
      "image/png": "[encoded data removed]",
      "text/plain": [
       "<Figure size 640x480 with 1 Axes>"
      ]
     },
     "metadata": {},
     "output_type": "display_data"
    }
   ],
   "source": [
    "plt.plot(np.linspace(0,5,10) , w, 'o-');"
   ]
  },
  {
   "cell_type": "code",
   "execution_count": null,
   "metadata": {},
   "outputs": [],
   "source": []
  },
  {
   "cell_type": "code",
   "execution_count": null,
   "metadata": {},
   "outputs": [],
   "source": []
  }
 ],
 "metadata": {
  "colab": {
   "collapsed_sections": [],
   "provenance": []
  },
  "kernelspec": {
   "display_name": "Python 3 (ipykernel)",
   "language": "python",
   "name": "python3"
  },
  "language_info": {
   "codemirror_mode": {
    "name": "ipython",
    "version": 3
   },
   "file_extension": ".py",
   "mimetype": "text/x-python",
   "name": "python",
   "nbconvert_exporter": "python",
   "pygments_lexer": "ipython3",
   "version": "3.10.6"
  }
 },
 "nbformat": 4,
 "nbformat_minor": 1
}
